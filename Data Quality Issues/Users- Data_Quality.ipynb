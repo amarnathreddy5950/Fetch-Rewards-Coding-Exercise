{
 "cells": [
  {
   "cell_type": "code",
   "execution_count": 1,
   "id": "d8af89a2",
   "metadata": {},
   "outputs": [],
   "source": [
    "import pandas as pd\n",
    "import numpy as np\n",
    "import matplotlib.pyplot as plt\n",
    "import seaborn as sns"
   ]
  },
  {
   "cell_type": "code",
   "execution_count": 2,
   "id": "7c25713f",
   "metadata": {},
   "outputs": [],
   "source": [
    "users = pd.read_csv(\"/Users/amarnathreddychinthapalli/Desktop/Fetch-Rewards-Coding-Exercise/data/users.csv\")"
   ]
  },
  {
   "cell_type": "code",
   "execution_count": 3,
   "id": "ff3b6c93",
   "metadata": {},
   "outputs": [
    {
     "name": "stdout",
     "output_type": "stream",
     "text": [
      "<class 'pandas.core.frame.DataFrame'>\n",
      "RangeIndex: 495 entries, 0 to 494\n",
      "Data columns (total 7 columns):\n",
      " #   Column             Non-Null Count  Dtype  \n",
      "---  ------             --------------  -----  \n",
      " 0   active             495 non-null    bool   \n",
      " 1   role               495 non-null    object \n",
      " 2   signUpSource       447 non-null    object \n",
      " 3   state              439 non-null    object \n",
      " 4   _id.$oid           495 non-null    object \n",
      " 5   createdDate.$date  495 non-null    int64  \n",
      " 6   lastLogin.$date    433 non-null    float64\n",
      "dtypes: bool(1), float64(1), int64(1), object(4)\n",
      "memory usage: 23.8+ KB\n"
     ]
    }
   ],
   "source": [
    "users.info()"
   ]
  },
  {
   "cell_type": "code",
   "execution_count": 4,
   "id": "e6c5e505",
   "metadata": {},
   "outputs": [
    {
     "data": {
      "text/html": [
       "<div>\n",
       "<style scoped>\n",
       "    .dataframe tbody tr th:only-of-type {\n",
       "        vertical-align: middle;\n",
       "    }\n",
       "\n",
       "    .dataframe tbody tr th {\n",
       "        vertical-align: top;\n",
       "    }\n",
       "\n",
       "    .dataframe thead th {\n",
       "        text-align: right;\n",
       "    }\n",
       "</style>\n",
       "<table border=\"1\" class=\"dataframe\">\n",
       "  <thead>\n",
       "    <tr style=\"text-align: right;\">\n",
       "      <th></th>\n",
       "      <th>active</th>\n",
       "      <th>role</th>\n",
       "      <th>signUpSource</th>\n",
       "      <th>state</th>\n",
       "      <th>_id.$oid</th>\n",
       "      <th>createdDate.$date</th>\n",
       "      <th>lastLogin.$date</th>\n",
       "    </tr>\n",
       "  </thead>\n",
       "  <tbody>\n",
       "    <tr>\n",
       "      <th>0</th>\n",
       "      <td>True</td>\n",
       "      <td>consumer</td>\n",
       "      <td>Email</td>\n",
       "      <td>WI</td>\n",
       "      <td>5ff1e194b6a9d73a3a9f1052</td>\n",
       "      <td>1609687444800</td>\n",
       "      <td>1.609688e+12</td>\n",
       "    </tr>\n",
       "    <tr>\n",
       "      <th>1</th>\n",
       "      <td>True</td>\n",
       "      <td>consumer</td>\n",
       "      <td>Email</td>\n",
       "      <td>WI</td>\n",
       "      <td>5ff1e194b6a9d73a3a9f1052</td>\n",
       "      <td>1609687444800</td>\n",
       "      <td>1.609688e+12</td>\n",
       "    </tr>\n",
       "    <tr>\n",
       "      <th>2</th>\n",
       "      <td>True</td>\n",
       "      <td>consumer</td>\n",
       "      <td>Email</td>\n",
       "      <td>WI</td>\n",
       "      <td>5ff1e194b6a9d73a3a9f1052</td>\n",
       "      <td>1609687444800</td>\n",
       "      <td>1.609688e+12</td>\n",
       "    </tr>\n",
       "    <tr>\n",
       "      <th>3</th>\n",
       "      <td>True</td>\n",
       "      <td>consumer</td>\n",
       "      <td>Email</td>\n",
       "      <td>WI</td>\n",
       "      <td>5ff1e1eacfcf6c399c274ae6</td>\n",
       "      <td>1609687530554</td>\n",
       "      <td>1.609688e+12</td>\n",
       "    </tr>\n",
       "    <tr>\n",
       "      <th>4</th>\n",
       "      <td>True</td>\n",
       "      <td>consumer</td>\n",
       "      <td>Email</td>\n",
       "      <td>WI</td>\n",
       "      <td>5ff1e194b6a9d73a3a9f1052</td>\n",
       "      <td>1609687444800</td>\n",
       "      <td>1.609688e+12</td>\n",
       "    </tr>\n",
       "  </tbody>\n",
       "</table>\n",
       "</div>"
      ],
      "text/plain": [
       "   active      role signUpSource state                  _id.$oid  \\\n",
       "0    True  consumer        Email    WI  5ff1e194b6a9d73a3a9f1052   \n",
       "1    True  consumer        Email    WI  5ff1e194b6a9d73a3a9f1052   \n",
       "2    True  consumer        Email    WI  5ff1e194b6a9d73a3a9f1052   \n",
       "3    True  consumer        Email    WI  5ff1e1eacfcf6c399c274ae6   \n",
       "4    True  consumer        Email    WI  5ff1e194b6a9d73a3a9f1052   \n",
       "\n",
       "   createdDate.$date  lastLogin.$date  \n",
       "0      1609687444800     1.609688e+12  \n",
       "1      1609687444800     1.609688e+12  \n",
       "2      1609687444800     1.609688e+12  \n",
       "3      1609687530554     1.609688e+12  \n",
       "4      1609687444800     1.609688e+12  "
      ]
     },
     "execution_count": 4,
     "metadata": {},
     "output_type": "execute_result"
    }
   ],
   "source": [
    "users.head()"
   ]
  },
  {
   "cell_type": "code",
   "execution_count": 5,
   "id": "8128adfa",
   "metadata": {},
   "outputs": [
    {
     "data": {
      "text/plain": [
       "active                0\n",
       "role                  0\n",
       "signUpSource         48\n",
       "state                56\n",
       "_id.$oid              0\n",
       "createdDate.$date     0\n",
       "lastLogin.$date      62\n",
       "dtype: int64"
      ]
     },
     "execution_count": 5,
     "metadata": {},
     "output_type": "execute_result"
    }
   ],
   "source": [
    "users.isnull().sum()"
   ]
  },
  {
   "cell_type": "code",
   "execution_count": 6,
   "id": "16251f50",
   "metadata": {},
   "outputs": [
    {
     "name": "stdout",
     "output_type": "stream",
     "text": [
      "active: 0.00%\n",
      "role: 0.00%\n",
      "signUpSource: 9.70%\n",
      "state: 11.31%\n",
      "_id.$oid: 0.00%\n",
      "createdDate.$date: 0.00%\n",
      "lastLogin.$date: 12.53%\n"
     ]
    }
   ],
   "source": [
    "null_percentages = users.isnull().mean(axis=0) * 100\n",
    "# Print the percentage of null values for each value\n",
    "for col_name, null_percent in null_percentages.items():\n",
    "    print(f\"{col_name}: {null_percent:.2f}%\")"
   ]
  },
  {
   "cell_type": "code",
   "execution_count": 7,
   "id": "00bf80f4",
   "metadata": {},
   "outputs": [
    {
     "name": "stdout",
     "output_type": "stream",
     "text": [
      "       createdDate.$date  lastLogin.$date\n",
      "count       4.950000e+02     4.330000e+02\n",
      "mean        1.596678e+12     1.611388e+12\n",
      "std         4.402970e+10     4.430109e+09\n",
      "min         1.418999e+12     1.525714e+12\n",
      "25%         1.609789e+12     1.610130e+12\n",
      "50%         1.610569e+12     1.611237e+12\n",
      "75%         1.611596e+12     1.612366e+12\n",
      "max         1.613139e+12     1.614963e+12\n"
     ]
    }
   ],
   "source": [
    "print(users.describe())"
   ]
  },
  {
   "cell_type": "code",
   "execution_count": 9,
   "id": "be28fb87",
   "metadata": {},
   "outputs": [
    {
     "data": {
      "image/png": "[encoded data removed]",
      "text/plain": [
       "<Figure size 576x432 with 1 Axes>"
      ]
     },
     "metadata": {
      "needs_background": "light"
     },
     "output_type": "display_data"
    }
   ],
   "source": [
    "plt.figure(figsize=(8, 6))\n",
    "sns.countplot(x='state', data=users)\n",
    "plt.title('Distribution of States')\n",
    "plt.xlabel('State')\n",
    "plt.ylabel('Count')\n",
    "plt.show()"
   ]
  },
  {
   "cell_type": "code",
   "execution_count": 10,
   "id": "0df303d9",
   "metadata": {},
   "outputs": [
    {
     "data": {
      "image/png": "[encoded data removed]",
      "text/plain": [
       "<Figure size 576x432 with 1 Axes>"
      ]
     },
     "metadata": {
      "needs_background": "light"
     },
     "output_type": "display_data"
    }
   ],
   "source": [
    "plt.figure(figsize=(8, 6))\n",
    "sns.countplot(x='signUpSource', data=users)\n",
    "plt.title('Distribution of SignUp Sources')\n",
    "plt.xlabel('SignUp Source')\n",
    "plt.ylabel('Count')\n",
    "plt.show()"
   ]
  },
  {
   "cell_type": "code",
   "execution_count": 12,
   "id": "cb5cb930",
   "metadata": {},
   "outputs": [
    {
     "data": {
      "image/png": "[encoded data removed]",
      "text/plain": [
       "<Figure size 576x432 with 1 Axes>"
      ]
     },
     "metadata": {
      "needs_background": "light"
     },
     "output_type": "display_data"
    }
   ],
   "source": [
    "plt.figure(figsize=(8, 6))\n",
    "sns.countplot(x='role', data=users)\n",
    "plt.title('Distribution of Roles')\n",
    "plt.xlabel('Role')\n",
    "plt.ylabel('Count')\n",
    "plt.show()"
   ]
  },
  {
   "cell_type": "markdown",
   "id": "e3725c4f",
   "metadata": {},
   "source": [
    "## Data Quality Issues\n",
    "\n",
    "### Missing Values\n",
    "SignUpSource: 9.70% of entries are missing in the signUpSource column.\n",
    "State: 11.31% of entries are missing in the state column.\n",
    "LastLogin: 12.53% of entries are missing in the lastLogin.$date column.\n",
    "\n",
    "### Inconsistencies\n",
    "No notable inconsistencies were observed in the dataset.\n",
    "\n",
    "### Data Integrity\n",
    "The purpose and usage of the ID column (_id.$oid) are not explicitly defined.\n"
   ]
  }
 ],
 "metadata": {
  "language_info": {
   "codemirror_mode": {
    "name": "ipython",
    "version": 3
   },
   "file_extension": ".py",
   "mimetype": "text/x-python",
   "name": "python",
   "nbconvert_exporter": "python",
   "pygments_lexer": "ipython3",
   "version": "3.9.12"
  }
 },
 "nbformat": 4,
 "nbformat_minor": 5
}
