{
 "cells": [
  {
   "cell_type": "code",
   "execution_count": 1,
   "id": "6ca3a957",
   "metadata": {},
   "outputs": [],
   "source": [
    "import pandas as pd\n",
    "import numpy as np\n",
    "import matplotlib.pyplot as plt\n",
    "import seaborn as sns"
   ]
  },
  {
   "cell_type": "code",
   "execution_count": 2,
   "id": "1d8eb97a",
   "metadata": {},
   "outputs": [],
   "source": [
    "brands = pd.read_csv(\"/Users/amarnathreddychinthapalli/Desktop/Fetch-Rewards-Coding-Exercise/data/brands.csv\")"
   ]
  },
  {
   "cell_type": "code",
   "execution_count": 3,
   "id": "3c685ccd",
   "metadata": {},
   "outputs": [
    {
     "name": "stdout",
     "output_type": "stream",
     "text": [
      "<class 'pandas.core.frame.DataFrame'>\n",
      "RangeIndex: 1167 entries, 0 to 1166\n",
      "Data columns (total 9 columns):\n",
      " #   Column        Non-Null Count  Dtype \n",
      "---  ------        --------------  ----- \n",
      " 0   barcode       1167 non-null   int64 \n",
      " 1   category      1012 non-null   object\n",
      " 2   categoryCode  517 non-null    object\n",
      " 3   name          1167 non-null   object\n",
      " 4   topBrand      555 non-null    object\n",
      " 5   _id.$oid      1167 non-null   object\n",
      " 6   cpg.$id.$oid  1167 non-null   object\n",
      " 7   cpg.$ref      1167 non-null   object\n",
      " 8   brandCode     898 non-null    object\n",
      "dtypes: int64(1), object(8)\n",
      "memory usage: 82.2+ KB\n"
     ]
    }
   ],
   "source": [
    "brands.info()"
   ]
  },
  {
   "cell_type": "code",
   "execution_count": 4,
   "id": "88404b12",
   "metadata": {},
   "outputs": [
    {
     "data": {
      "text/html": [
       "<div>\n",
       "<style scoped>\n",
       "    .dataframe tbody tr th:only-of-type {\n",
       "        vertical-align: middle;\n",
       "    }\n",
       "\n",
       "    .dataframe tbody tr th {\n",
       "        vertical-align: top;\n",
       "    }\n",
       "\n",
       "    .dataframe thead th {\n",
       "        text-align: right;\n",
       "    }\n",
       "</style>\n",
       "<table border=\"1\" class=\"dataframe\">\n",
       "  <thead>\n",
       "    <tr style=\"text-align: right;\">\n",
       "      <th></th>\n",
       "      <th>barcode</th>\n",
       "      <th>category</th>\n",
       "      <th>categoryCode</th>\n",
       "      <th>name</th>\n",
       "      <th>topBrand</th>\n",
       "      <th>_id.$oid</th>\n",
       "      <th>cpg.$id.$oid</th>\n",
       "      <th>cpg.$ref</th>\n",
       "      <th>brandCode</th>\n",
       "    </tr>\n",
       "  </thead>\n",
       "  <tbody>\n",
       "    <tr>\n",
       "      <th>0</th>\n",
       "      <td>511111019862</td>\n",
       "      <td>Baking</td>\n",
       "      <td>BAKING</td>\n",
       "      <td>test brand @1612366101024</td>\n",
       "      <td>False</td>\n",
       "      <td>601ac115be37ce2ead437551</td>\n",
       "      <td>601ac114be37ce2ead437550</td>\n",
       "      <td>Cogs</td>\n",
       "      <td>NaN</td>\n",
       "    </tr>\n",
       "    <tr>\n",
       "      <th>1</th>\n",
       "      <td>511111519928</td>\n",
       "      <td>Beverages</td>\n",
       "      <td>BEVERAGES</td>\n",
       "      <td>Starbucks</td>\n",
       "      <td>False</td>\n",
       "      <td>601c5460be37ce2ead43755f</td>\n",
       "      <td>5332f5fbe4b03c9a25efd0ba</td>\n",
       "      <td>Cogs</td>\n",
       "      <td>STARBUCKS</td>\n",
       "    </tr>\n",
       "    <tr>\n",
       "      <th>2</th>\n",
       "      <td>511111819905</td>\n",
       "      <td>Baking</td>\n",
       "      <td>BAKING</td>\n",
       "      <td>test brand @1612366146176</td>\n",
       "      <td>False</td>\n",
       "      <td>601ac142be37ce2ead43755d</td>\n",
       "      <td>601ac142be37ce2ead437559</td>\n",
       "      <td>Cogs</td>\n",
       "      <td>TEST BRANDCODE @1612366146176</td>\n",
       "    </tr>\n",
       "    <tr>\n",
       "      <th>3</th>\n",
       "      <td>511111519874</td>\n",
       "      <td>Baking</td>\n",
       "      <td>BAKING</td>\n",
       "      <td>test brand @1612366146051</td>\n",
       "      <td>False</td>\n",
       "      <td>601ac142be37ce2ead43755a</td>\n",
       "      <td>601ac142be37ce2ead437559</td>\n",
       "      <td>Cogs</td>\n",
       "      <td>TEST BRANDCODE @1612366146051</td>\n",
       "    </tr>\n",
       "    <tr>\n",
       "      <th>4</th>\n",
       "      <td>511111319917</td>\n",
       "      <td>Candy &amp; Sweets</td>\n",
       "      <td>CANDY_AND_SWEETS</td>\n",
       "      <td>test brand @1612366146827</td>\n",
       "      <td>False</td>\n",
       "      <td>601ac142be37ce2ead43755e</td>\n",
       "      <td>5332fa12e4b03c9a25efd1e7</td>\n",
       "      <td>Cogs</td>\n",
       "      <td>TEST BRANDCODE @1612366146827</td>\n",
       "    </tr>\n",
       "  </tbody>\n",
       "</table>\n",
       "</div>"
      ],
      "text/plain": [
       "        barcode        category      categoryCode                       name  \\\n",
       "0  511111019862          Baking            BAKING  test brand @1612366101024   \n",
       "1  511111519928       Beverages         BEVERAGES                  Starbucks   \n",
       "2  511111819905          Baking            BAKING  test brand @1612366146176   \n",
       "3  511111519874          Baking            BAKING  test brand @1612366146051   \n",
       "4  511111319917  Candy & Sweets  CANDY_AND_SWEETS  test brand @1612366146827   \n",
       "\n",
       "  topBrand                  _id.$oid              cpg.$id.$oid cpg.$ref  \\\n",
       "0    False  601ac115be37ce2ead437551  601ac114be37ce2ead437550     Cogs   \n",
       "1    False  601c5460be37ce2ead43755f  5332f5fbe4b03c9a25efd0ba     Cogs   \n",
       "2    False  601ac142be37ce2ead43755d  601ac142be37ce2ead437559     Cogs   \n",
       "3    False  601ac142be37ce2ead43755a  601ac142be37ce2ead437559     Cogs   \n",
       "4    False  601ac142be37ce2ead43755e  5332fa12e4b03c9a25efd1e7     Cogs   \n",
       "\n",
       "                       brandCode  \n",
       "0                            NaN  \n",
       "1                      STARBUCKS  \n",
       "2  TEST BRANDCODE @1612366146176  \n",
       "3  TEST BRANDCODE @1612366146051  \n",
       "4  TEST BRANDCODE @1612366146827  "
      ]
     },
     "execution_count": 4,
     "metadata": {},
     "output_type": "execute_result"
    }
   ],
   "source": [
    "brands.head()"
   ]
  },
  {
   "cell_type": "code",
   "execution_count": 5,
   "id": "2be7a472",
   "metadata": {},
   "outputs": [
    {
     "data": {
      "text/plain": [
       "barcode           0\n",
       "category        155\n",
       "categoryCode    650\n",
       "name              0\n",
       "topBrand        612\n",
       "_id.$oid          0\n",
       "cpg.$id.$oid      0\n",
       "cpg.$ref          0\n",
       "brandCode       269\n",
       "dtype: int64"
      ]
     },
     "execution_count": 5,
     "metadata": {},
     "output_type": "execute_result"
    }
   ],
   "source": [
    "brands.isnull().sum()"
   ]
  },
  {
   "cell_type": "code",
   "execution_count": 6,
   "id": "8e9e8df9",
   "metadata": {},
   "outputs": [
    {
     "name": "stdout",
     "output_type": "stream",
     "text": [
      "barcode: 0.00%\n",
      "category: 13.28%\n",
      "categoryCode: 55.70%\n",
      "name: 0.00%\n",
      "topBrand: 52.44%\n",
      "_id.$oid: 0.00%\n",
      "cpg.$id.$oid: 0.00%\n",
      "cpg.$ref: 0.00%\n",
      "brandCode: 23.05%\n"
     ]
    }
   ],
   "source": [
    "null_percentages = brands.isnull().mean(axis=0) * 100\n",
    "# Print the percentage of null values for each value\n",
    "for col_name, null_percent in null_percentages.items():\n",
    "    print(f\"{col_name}: {null_percent:.2f}%\")"
   ]
  },
  {
   "cell_type": "code",
   "execution_count": 7,
   "id": "be0bd269",
   "metadata": {},
   "outputs": [
    {
     "name": "stdout",
     "output_type": "stream",
     "text": [
      "            barcode\n",
      "count  1.167000e+03\n",
      "mean   5.111115e+11\n",
      "std    2.874497e+05\n",
      "min    5.111110e+11\n",
      "25%    5.111112e+11\n",
      "50%    5.111114e+11\n",
      "75%    5.111117e+11\n",
      "max    5.111119e+11\n"
     ]
    }
   ],
   "source": [
    "print(brands.describe())"
   ]
  },
  {
   "cell_type": "code",
   "execution_count": 10,
   "id": "74deb962",
   "metadata": {},
   "outputs": [
    {
     "data": {
      "image/png": "[encoded data removed]",
      "text/plain": [
       "<Figure size 720x432 with 1 Axes>"
      ]
     },
     "metadata": {
      "needs_background": "light"
     },
     "output_type": "display_data"
    }
   ],
   "source": [
    "plt.figure(figsize=(10, 6))\n",
    "sns.countplot(y='category', data=brands, order=brands['category'].value_counts().index)\n",
    "plt.title('Distribution of Categories')\n",
    "plt.xlabel('Count')\n",
    "plt.ylabel('Category')\n",
    "plt.show()"
   ]
  },
  {
   "cell_type": "markdown",
   "id": "77e4a0f5",
   "metadata": {},
   "source": [
    "## Data Quality Issues\n",
    "\n",
    "### Missing Values\n",
    "Category: 13.28% of entries are missing in the category column.\n",
    "\n",
    "Category Code: 55.70% of entries are missing in the categoryCode column.\n",
    "\n",
    "Top Brand: 52.44% of entries are missing in the topBrand column.\n",
    "\n",
    "Brand Code: 23.05% of entries are missing in the brandCode column.\n",
    "\n",
    "\n",
    "### Inconsistencies\n",
    "Top Brand: The topBrand column contains boolean values (True/False) along with missing values, but it's represented as an object dtype instead of a boolean dtype.\n",
    "\n",
    "\n",
    "### Data Integrity\n",
    "ID Columns such as id__oid  and  cpg__id__oid columns appear to be identifiers, but their exact purpose and relationship with other columns are not explicitly defined.\n",
    "\n",
    "### Data Consistency\n",
    "Category and Category Code: The category and categoryCode columns provide information about the category of each brand, but there are inconsistencies in the completeness of these columns and potentially in their alignment with each other."
   ]
  }
 ],
 "metadata": {
  "language_info": {
   "codemirror_mode": {
    "name": "ipython",
    "version": 3
   },
   "file_extension": ".py",
   "mimetype": "text/x-python",
   "name": "python",
   "nbconvert_exporter": "python",
   "pygments_lexer": "ipython3",
   "version": "3.9.12"
  }
 },
 "nbformat": 4,
 "nbformat_minor": 5
}
